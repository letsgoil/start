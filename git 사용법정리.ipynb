{
 "cells": [
  {
   "cell_type": "markdown",
   "id": "6e4ff219",
   "metadata": {},
   "source": [
    "### git 사용법 이하 모든 명령은 git bash에서 실행한다. CLI (command line interpriter) \n",
    " - ### $ git init\n",
    "  - ### 이명령은 git bash로 접근한 현재 디렉토리가 git 으로 관리한다는 명령 이제 이디렉토리에 생성되는 모든 파일은 시간여행을 할수있다.\n",
    "\n",
    "  \n",
    " - ### $ git config --global user.email \"letsgoil12@gmail.com\"\n",
    " \n",
    " - ### $ git config --global user.name \"letsgoil\"  \n",
    " \n",
    " - ### 시간여행의 각단계는 commit (커밋) 이라고 부른다. 각 커밋은 시간의 단계라고 볼 수 있다.\n",
    " \n",
    " - ### $ git add README.TXT 는 현재 커밋에서 관리되는 파일을 선정해준다.이렇게 여러게 추가하면 동일 커밋으로 묶이게 된다.  \n",
    " \n",
    " - ### $ git commit -m \"커밋을 만드는 명령이면서 이번 커밋에 대한 설명을 적어준다.\" 이로써 git add로 묶어지 파일들이 하나의 커밋이된다.  \n",
    " \n",
    " - ### 변화가 생경서 관리단계가 필요하면 변화된 디렉토리내의 상태를 새로운 커밋으로 계속만들어 준다.  \n",
    " \n",
    " - ### 파일을 변경하고 버전관리를 하고싶으면 하나의 파일이라도 새로운 버전은 $ git add README.txt 로 매번 add해 줘야 한다.  \n",
    " \n",
    " - ### 그리고 버전관리를 하려면 매번 $ git commit -m \"각 저장단계에 따른 설명\" 이러한 단계를 거쳐야 한다. \n",
    " \n",
    " - ### $ git log 지금까지 만든 커밋을 볼수 있다.  \n",
    " \n",
    " - ### 돌아가고 싶은 commit 의 번호 7자리 이상을 사용하여 각 단계로 이동할 수 있다.  \n",
    " \n",
    " - ### $ git checkout 5813BB5 처럼 적어주면 그때로 돌아간다는의미는 파일의 내용도 원복되지만 만들어진 파일도 사라진다.  \n",
    " \n",
    " - ### $ git checkout - 이렇게 - 를 일자로 넣으면 최신 커밋의 위치로 간다.  \n",
    " \n",
    " \n",
    " \n",
    " - ## 의문사항  \n",
    "  - ### $ git checkout 5813BB5 처럼 과거로 돌아가서 파일을 수정하고 또다른파일을 만들고 이들을 모두 git add로 추가 하면 족보가 꼬이는데  \n",
    " \n",
    " - ### $ git add 로 디렉토리도 되는가?  \n",
    " \n",
    " - ### $ git add 를 하지 않은 파일은 과거로 돌아가도 그대로 있는가?  \n",
    " \n",
    " \n",
    " \n",
    "  - #### 이명령의 의미는  "
   ]
  },
  {
   "cell_type": "code",
   "execution_count": null,
   "id": "b8213971",
   "metadata": {},
   "outputs": [],
   "source": []
  }
 ],
 "metadata": {
  "kernelspec": {
   "display_name": "Python 3 (ipykernel)",
   "language": "python",
   "name": "python3"
  },
  "language_info": {
   "codemirror_mode": {
    "name": "ipython",
    "version": 3
   },
   "file_extension": ".py",
   "mimetype": "text/x-python",
   "name": "python",
   "nbconvert_exporter": "python",
   "pygments_lexer": "ipython3",
   "version": "3.9.7"
  }
 },
 "nbformat": 4,
 "nbformat_minor": 5
}
